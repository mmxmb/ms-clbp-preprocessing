{
 "cells": [
  {
   "cell_type": "code",
   "execution_count": null,
   "metadata": {},
   "outputs": [],
   "source": [
    "from keras.models import Model, Input\n",
    "from keras.layers import Conv2D, MaxPooling2D, GlobalAveragePooling2D, Activation\n",
    "from keras.utils import to_categorical\n",
    "from keras.losses import categorical_crossentropy\n",
    "from keras.callbacks import ModelCheckpoint, TensorBoard, ReduceLROnPlateau, EarlyStopping\n",
    "from keras.optimizers import Adam\n",
    "from sklearn.model_selection import train_test_split\n",
    "import os\n",
    "import pickle\n",
    "import numpy as np"
   ]
  },
  {
   "cell_type": "markdown",
   "metadata": {},
   "source": [
    "# Unpickle preprocessed data"
   ]
  },
  {
   "cell_type": "code",
   "execution_count": null,
   "metadata": {},
   "outputs": [],
   "source": [
    "pkl_dir = os.path.join(os.getcwd(), '..', 'pkl')\n",
    "\n",
    "def unpickle(path):\n",
    "    with open(path, 'rb') as f:\n",
    "        return pickle.load(f)\n",
    "\n",
    "filepaths = [os.path.join(pkl_dir, filename) for filename in sorted(os.listdir(pkl_dir))]\n",
    "data = []\n",
    "for cls, filepath in enumerate(filepaths):\n",
    "    feature_mats = unpickle(filepath)\n",
    "    data.extend(feature_mats)"
   ]
  },
  {
   "cell_type": "code",
   "execution_count": null,
   "metadata": {},
   "outputs": [],
   "source": [
    "img_tensors = []\n",
    "for img_tensor in data:\n",
    "    img_tensors.append(np.array(img_tensor))\n",
    "X = np.array(img_tensors)"
   ]
  },
  {
   "cell_type": "code",
   "execution_count": null,
   "metadata": {},
   "outputs": [],
   "source": [
    "X.shape"
   ]
  },
  {
   "cell_type": "markdown",
   "metadata": {},
   "source": [
    "# Put together training and test tensors"
   ]
  },
  {
   "cell_type": "code",
   "execution_count": null,
   "metadata": {},
   "outputs": [],
   "source": [
    "cls = -1\n",
    "classes = []\n",
    "for i in range(2100):\n",
    "    if i % 100 == 0:\n",
    "        cls += 1\n",
    "    classes.append(cls)\n",
    "X_train, X_test, y_train, y_test = train_test_split(X, classes, test_size=0.2, random_state=42)\n",
    "y_train = to_categorical(y_train, num_classes=21)"
   ]
  },
  {
   "cell_type": "markdown",
   "metadata": {},
   "source": [
    "# Model architecture"
   ]
  },
  {
   "cell_type": "code",
   "execution_count": null,
   "metadata": {},
   "outputs": [],
   "source": [
    "input_shape = X_train[0,:,:,:].shape\n",
    "model_input = Input(shape=input_shape)"
   ]
  },
  {
   "cell_type": "code",
   "execution_count": null,
   "metadata": {},
   "outputs": [],
   "source": [
    "input_shape"
   ]
  },
  {
   "cell_type": "code",
   "execution_count": null,
   "metadata": {},
   "outputs": [],
   "source": [
    "def conv_pool_cnn(model_input):\n",
    "    \n",
    "    x = Conv2D(96, (3, 3), activation='relu', padding = 'same', data_format='channels_first')(model_input)\n",
    "    x = Conv2D(96, (3, 3), activation='relu', padding = 'same', data_format='channels_first')(x)\n",
    "    x = MaxPooling2D(pool_size=(3, 3), strides = 2, data_format='channels_first')(x)\n",
    "    x = Conv2D(192, (3, 3), activation='relu', padding = 'same', data_format='channels_first')(x)\n",
    "    x = Conv2D(192, (3, 3), activation='relu', padding = 'same', data_format='channels_first')(x)\n",
    "    x = MaxPooling2D(pool_size=(3, 3), strides = 2, data_format='channels_first')(x)\n",
    "    x = Conv2D(192, (3, 3), activation='relu', padding = 'same', data_format='channels_first')(x)\n",
    "    x = Conv2D(192, (1, 1), activation='relu', padding = 'same', data_format='channels_first')(x)\n",
    "    x = Conv2D(21, (1, 1), data_format='channels_first')(x)\n",
    "    x = GlobalAveragePooling2D(data_format='channels_first')(x)\n",
    "    x = Activation(activation='softmax')(x)\n",
    "    \n",
    "    model = Model(model_input, x, name='conv_pool_cnn')\n",
    "    \n",
    "    return model\n"
   ]
  },
  {
   "cell_type": "code",
   "execution_count": null,
   "metadata": {},
   "outputs": [],
   "source": [
    "conv_pool_cnn_model = conv_pool_cnn(model_input)"
   ]
  },
  {
   "cell_type": "code",
   "execution_count": null,
   "metadata": {},
   "outputs": [],
   "source": [
    "conv_pool_cnn_model.summary()"
   ]
  },
  {
   "cell_type": "markdown",
   "metadata": {},
   "source": [
    "# Model training"
   ]
  },
  {
   "cell_type": "code",
   "execution_count": null,
   "metadata": {},
   "outputs": [],
   "source": [
    "def compile_and_train(model, num_epochs): \n",
    "    \n",
    "    model.compile(loss=categorical_crossentropy, optimizer=Adam(lr=0.0001), metrics=['acc']) \n",
    "    filepath = 'weights/dl/' + model.name + '.{epoch:02d}-{loss:.2f}.hdf5'\n",
    "    checkpoint = ModelCheckpoint(filepath, monitor='loss', verbose=1, save_weights_only=True,\n",
    "                                                 save_best_only=True, mode='auto', period=1)\n",
    "    tensor_board = TensorBoard(log_dir='logs/dl/', histogram_freq=0)\n",
    "    reduce_lr = ReduceLROnPlateau(monitor='val_loss', factor=0.5,\n",
    "                                  patience=5, min_lr=0.0000001,\n",
    "                                  verbose=1)\n",
    "    early_stopping = EarlyStopping(monitor='val_acc', min_delta=0.01, patience=30, \n",
    "                                   verbose=1, mode='auto', restore_best_weights=True)\n",
    "    history = model.fit(x=X_train, y=y_train, batch_size=32, shuffle=True,\n",
    "                     epochs=num_epochs, verbose=1, callbacks=[checkpoint, tensor_board, reduce_lr, early_stopping], validation_split=0.2)\n",
    "    return history\n",
    "\n"
   ]
  },
  {
   "cell_type": "code",
   "execution_count": null,
   "metadata": {},
   "outputs": [],
   "source": [
    "_ = compile_and_train(conv_pool_cnn_model, num_epochs=200)"
   ]
  },
  {
   "cell_type": "markdown",
   "metadata": {},
   "source": [
    "# Evaluation"
   ]
  },
  {
   "cell_type": "code",
   "execution_count": null,
   "metadata": {},
   "outputs": [],
   "source": [
    "def evaluate_acc(model):\n",
    "    pred = model.predict(X_test, batch_size = 32)\n",
    "    pred = np.argmax(pred, axis=1)\n",
    "    acc = np.sum(np.equal(pred, y_test)) / len(y_test)\n",
    "    return acc\n"
   ]
  },
  {
   "cell_type": "code",
   "execution_count": null,
   "metadata": {},
   "outputs": [],
   "source": [
    "pred = conv_pool_cnn_model.predict(X_test, batch_size = 32)\n",
    "pred = np.argmax(pred, axis=1)\n",
    "np.sum(np.not_equal(pred, y_test))"
   ]
  },
  {
   "cell_type": "code",
   "execution_count": null,
   "metadata": {},
   "outputs": [],
   "source": [
    "evaluate_acc(conv_pool_cnn_model)"
   ]
  },
  {
   "cell_type": "code",
   "execution_count": null,
   "metadata": {},
   "outputs": [],
   "source": [
    "def evaluate_top_n_acc(model, n):\n",
    "    pred = conv_pool_cnn_model.predict(X_test, batch_size = 32)\n",
    "    hit = 0\n",
    "    for probs, truth in zip(pred, y_test):\n",
    "        top_n = probs.argsort()[-n:][::-1]\n",
    "        if truth in top_n:\n",
    "            hit += 1\n",
    "    acc = hit / len(y_test)\n",
    "    return acc"
   ]
  },
  {
   "cell_type": "code",
   "execution_count": null,
   "metadata": {},
   "outputs": [],
   "source": [
    "evaluate_top_n_acc(conv_pool_cnn_model, 5)"
   ]
  },
  {
   "cell_type": "code",
   "execution_count": null,
   "metadata": {},
   "outputs": [],
   "source": []
  }
 ],
 "metadata": {
  "kernelspec": {
   "display_name": "Python 3",
   "language": "python",
   "name": "python3"
  },
  "language_info": {
   "codemirror_mode": {
    "name": "ipython",
    "version": 3
   },
   "file_extension": ".py",
   "mimetype": "text/x-python",
   "name": "python",
   "nbconvert_exporter": "python",
   "pygments_lexer": "ipython3",
   "version": "3.7.4"
  }
 },
 "nbformat": 4,
 "nbformat_minor": 2
}
